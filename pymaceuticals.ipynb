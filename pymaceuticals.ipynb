{
  "cells": [
    {
      "cell_type": "markdown",
      "metadata": {
        "id": "uN0_x9NLW8FH"
      },
      "source": [
        "# Pymaceuticals Inc.\n",
        "---\n",
        "\n",
        "### Analysis\n",
        "\n",
        "- The box plot shows that Capomulin and Ramicane seems to be more effective at treating tumors due to both having a smaller final tumor volume than their competitors (Infubinol and Ceftamin).\n",
        "\n",
        "- Capomulin seems to be very effective at treating Mouse b128's tumor.  We can see an initial increase in tumor volume before the drug begins to kick in at around the 5th day.  We then see a dramatic decrease to an all-time low at ~30 days.  However, it seems like the tumor bounces back at the 35th day, which could be due to not taking medication or the tumor gaining resistance to the drug.\n",
        "\n",
        "-  From the scatter plot we can see that there may be a positive correlation with mouse weight and the average tumor volume.  This is further confirmed with our linear regression and correlation coefficient of 0.84, an indication of a strong relationship between the two variables.\n"
      ]
    },
    {
      "cell_type": "code",
      "execution_count": 2,
      "metadata": {
        "colab": {
          "base_uri": "https://localhost:8080/",
          "height": 206
        },
        "id": "_3TiGlBxW8FJ",
        "outputId": "dbed5b8b-9bf6-49fd-8bf6-18eaa2f45fc9"
      },
      "outputs": [
        {
          "output_type": "execute_result",
          "data": {
            "text/plain": [
              "  Mouse ID  Timepoint  Tumor Volume (mm3)  Metastatic Sites Drug Regimen  \\\n",
              "0     b128          0                45.0                 0    Capomulin   \n",
              "1     f932          0                45.0                 0     Ketapril   \n",
              "2     g107          0                45.0                 0     Ketapril   \n",
              "3     a457          0                45.0                 0     Ketapril   \n",
              "4     c819          0                45.0                 0     Ketapril   \n",
              "\n",
              "      Sex  Age_months  Weight (g)  \n",
              "0  Female           9          22  \n",
              "1    Male          15          29  \n",
              "2  Female           2          29  \n",
              "3  Female          11          30  \n",
              "4    Male          21          25  "
            ],
            "text/html": [
              "\n",
              "  <div id=\"df-e95ad9d2-b112-4299-a9fb-1b3e84db3a50\" class=\"colab-df-container\">\n",
              "    <div>\n",
              "<style scoped>\n",
              "    .dataframe tbody tr th:only-of-type {\n",
              "        vertical-align: middle;\n",
              "    }\n",
              "\n",
              "    .dataframe tbody tr th {\n",
              "        vertical-align: top;\n",
              "    }\n",
              "\n",
              "    .dataframe thead th {\n",
              "        text-align: right;\n",
              "    }\n",
              "</style>\n",
              "<table border=\"1\" class=\"dataframe\">\n",
              "  <thead>\n",
              "    <tr style=\"text-align: right;\">\n",
              "      <th></th>\n",
              "      <th>Mouse ID</th>\n",
              "      <th>Timepoint</th>\n",
              "      <th>Tumor Volume (mm3)</th>\n",
              "      <th>Metastatic Sites</th>\n",
              "      <th>Drug Regimen</th>\n",
              "      <th>Sex</th>\n",
              "      <th>Age_months</th>\n",
              "      <th>Weight (g)</th>\n",
              "    </tr>\n",
              "  </thead>\n",
              "  <tbody>\n",
              "    <tr>\n",
              "      <th>0</th>\n",
              "      <td>b128</td>\n",
              "      <td>0</td>\n",
              "      <td>45.0</td>\n",
              "      <td>0</td>\n",
              "      <td>Capomulin</td>\n",
              "      <td>Female</td>\n",
              "      <td>9</td>\n",
              "      <td>22</td>\n",
              "    </tr>\n",
              "    <tr>\n",
              "      <th>1</th>\n",
              "      <td>f932</td>\n",
              "      <td>0</td>\n",
              "      <td>45.0</td>\n",
              "      <td>0</td>\n",
              "      <td>Ketapril</td>\n",
              "      <td>Male</td>\n",
              "      <td>15</td>\n",
              "      <td>29</td>\n",
              "    </tr>\n",
              "    <tr>\n",
              "      <th>2</th>\n",
              "      <td>g107</td>\n",
              "      <td>0</td>\n",
              "      <td>45.0</td>\n",
              "      <td>0</td>\n",
              "      <td>Ketapril</td>\n",
              "      <td>Female</td>\n",
              "      <td>2</td>\n",
              "      <td>29</td>\n",
              "    </tr>\n",
              "    <tr>\n",
              "      <th>3</th>\n",
              "      <td>a457</td>\n",
              "      <td>0</td>\n",
              "      <td>45.0</td>\n",
              "      <td>0</td>\n",
              "      <td>Ketapril</td>\n",
              "      <td>Female</td>\n",
              "      <td>11</td>\n",
              "      <td>30</td>\n",
              "    </tr>\n",
              "    <tr>\n",
              "      <th>4</th>\n",
              "      <td>c819</td>\n",
              "      <td>0</td>\n",
              "      <td>45.0</td>\n",
              "      <td>0</td>\n",
              "      <td>Ketapril</td>\n",
              "      <td>Male</td>\n",
              "      <td>21</td>\n",
              "      <td>25</td>\n",
              "    </tr>\n",
              "  </tbody>\n",
              "</table>\n",
              "</div>\n",
              "    <div class=\"colab-df-buttons\">\n",
              "\n",
              "  <div class=\"colab-df-container\">\n",
              "    <button class=\"colab-df-convert\" onclick=\"convertToInteractive('df-e95ad9d2-b112-4299-a9fb-1b3e84db3a50')\"\n",
              "            title=\"Convert this dataframe to an interactive table.\"\n",
              "            style=\"display:none;\">\n",
              "\n",
              "  <svg xmlns=\"http://www.w3.org/2000/svg\" height=\"24px\" viewBox=\"0 -960 960 960\">\n",
              "    <path d=\"M120-120v-720h720v720H120Zm60-500h600v-160H180v160Zm220 220h160v-160H400v160Zm0 220h160v-160H400v160ZM180-400h160v-160H180v160Zm440 0h160v-160H620v160ZM180-180h160v-160H180v160Zm440 0h160v-160H620v160Z\"/>\n",
              "  </svg>\n",
              "    </button>\n",
              "\n",
              "  <style>\n",
              "    .colab-df-container {\n",
              "      display:flex;\n",
              "      gap: 12px;\n",
              "    }\n",
              "\n",
              "    .colab-df-convert {\n",
              "      background-color: #E8F0FE;\n",
              "      border: none;\n",
              "      border-radius: 50%;\n",
              "      cursor: pointer;\n",
              "      display: none;\n",
              "      fill: #1967D2;\n",
              "      height: 32px;\n",
              "      padding: 0 0 0 0;\n",
              "      width: 32px;\n",
              "    }\n",
              "\n",
              "    .colab-df-convert:hover {\n",
              "      background-color: #E2EBFA;\n",
              "      box-shadow: 0px 1px 2px rgba(60, 64, 67, 0.3), 0px 1px 3px 1px rgba(60, 64, 67, 0.15);\n",
              "      fill: #174EA6;\n",
              "    }\n",
              "\n",
              "    .colab-df-buttons div {\n",
              "      margin-bottom: 4px;\n",
              "    }\n",
              "\n",
              "    [theme=dark] .colab-df-convert {\n",
              "      background-color: #3B4455;\n",
              "      fill: #D2E3FC;\n",
              "    }\n",
              "\n",
              "    [theme=dark] .colab-df-convert:hover {\n",
              "      background-color: #434B5C;\n",
              "      box-shadow: 0px 1px 3px 1px rgba(0, 0, 0, 0.15);\n",
              "      filter: drop-shadow(0px 1px 2px rgba(0, 0, 0, 0.3));\n",
              "      fill: #FFFFFF;\n",
              "    }\n",
              "  </style>\n",
              "\n",
              "    <script>\n",
              "      const buttonEl =\n",
              "        document.querySelector('#df-e95ad9d2-b112-4299-a9fb-1b3e84db3a50 button.colab-df-convert');\n",
              "      buttonEl.style.display =\n",
              "        google.colab.kernel.accessAllowed ? 'block' : 'none';\n",
              "\n",
              "      async function convertToInteractive(key) {\n",
              "        const element = document.querySelector('#df-e95ad9d2-b112-4299-a9fb-1b3e84db3a50');\n",
              "        const dataTable =\n",
              "          await google.colab.kernel.invokeFunction('convertToInteractive',\n",
              "                                                    [key], {});\n",
              "        if (!dataTable) return;\n",
              "\n",
              "        const docLinkHtml = 'Like what you see? Visit the ' +\n",
              "          '<a target=\"_blank\" href=https://colab.research.google.com/notebooks/data_table.ipynb>data table notebook</a>'\n",
              "          + ' to learn more about interactive tables.';\n",
              "        element.innerHTML = '';\n",
              "        dataTable['output_type'] = 'display_data';\n",
              "        await google.colab.output.renderOutput(dataTable, element);\n",
              "        const docLink = document.createElement('div');\n",
              "        docLink.innerHTML = docLinkHtml;\n",
              "        element.appendChild(docLink);\n",
              "      }\n",
              "    </script>\n",
              "  </div>\n",
              "\n",
              "\n",
              "<div id=\"df-eb5dced1-6f4d-4f33-b447-161dcaa9a2f1\">\n",
              "  <button class=\"colab-df-quickchart\" onclick=\"quickchart('df-eb5dced1-6f4d-4f33-b447-161dcaa9a2f1')\"\n",
              "            title=\"Suggest charts.\"\n",
              "            style=\"display:none;\">\n",
              "\n",
              "<svg xmlns=\"http://www.w3.org/2000/svg\" height=\"24px\"viewBox=\"0 0 24 24\"\n",
              "     width=\"24px\">\n",
              "    <g>\n",
              "        <path d=\"M19 3H5c-1.1 0-2 .9-2 2v14c0 1.1.9 2 2 2h14c1.1 0 2-.9 2-2V5c0-1.1-.9-2-2-2zM9 17H7v-7h2v7zm4 0h-2V7h2v10zm4 0h-2v-4h2v4z\"/>\n",
              "    </g>\n",
              "</svg>\n",
              "  </button>\n",
              "\n",
              "<style>\n",
              "  .colab-df-quickchart {\n",
              "    background-color: #E8F0FE;\n",
              "    border: none;\n",
              "    border-radius: 50%;\n",
              "    cursor: pointer;\n",
              "    display: none;\n",
              "    fill: #1967D2;\n",
              "    height: 32px;\n",
              "    padding: 0 0 0 0;\n",
              "    width: 32px;\n",
              "  }\n",
              "\n",
              "  .colab-df-quickchart:hover {\n",
              "    background-color: #E2EBFA;\n",
              "    box-shadow: 0px 1px 2px rgba(60, 64, 67, 0.3), 0px 1px 3px 1px rgba(60, 64, 67, 0.15);\n",
              "    fill: #174EA6;\n",
              "  }\n",
              "\n",
              "  [theme=dark] .colab-df-quickchart {\n",
              "    background-color: #3B4455;\n",
              "    fill: #D2E3FC;\n",
              "  }\n",
              "\n",
              "  [theme=dark] .colab-df-quickchart:hover {\n",
              "    background-color: #434B5C;\n",
              "    box-shadow: 0px 1px 3px 1px rgba(0, 0, 0, 0.15);\n",
              "    filter: drop-shadow(0px 1px 2px rgba(0, 0, 0, 0.3));\n",
              "    fill: #FFFFFF;\n",
              "  }\n",
              "</style>\n",
              "\n",
              "  <script>\n",
              "    async function quickchart(key) {\n",
              "      const charts = await google.colab.kernel.invokeFunction(\n",
              "          'suggestCharts', [key], {});\n",
              "    }\n",
              "    (() => {\n",
              "      let quickchartButtonEl =\n",
              "        document.querySelector('#df-eb5dced1-6f4d-4f33-b447-161dcaa9a2f1 button');\n",
              "      quickchartButtonEl.style.display =\n",
              "        google.colab.kernel.accessAllowed ? 'block' : 'none';\n",
              "    })();\n",
              "  </script>\n",
              "</div>\n",
              "    </div>\n",
              "  </div>\n"
            ]
          },
          "metadata": {},
          "execution_count": 2
        }
      ],
      "source": [
        "# Dependencies and Setup\n",
        "import matplotlib.pyplot as plt\n",
        "import pandas as pd\n",
        "import scipy.stats as st\n",
        "\n",
        "# Study data files\n",
        "mouse_metadata_path = \"/Mouse_metadata.csv\"\n",
        "study_results_path = \"/Study_results.csv\"\n",
        "\n",
        "# Read the mouse data and the study results\n",
        "mouse_metadata = pd.read_csv(mouse_metadata_path)\n",
        "study_results = pd.read_csv(study_results_path)\n",
        "\n",
        "# Combine the data into a single DataFrame\n",
        "df_merged = pd.merge(study_results, mouse_metadata, on=\"Mouse ID\", how=\"left\")\n",
        "\n",
        "# Display the data table for preview\n",
        "df_merged.head()"
      ]
    },
    {
      "cell_type": "code",
      "execution_count": 3,
      "metadata": {
        "colab": {
          "base_uri": "https://localhost:8080/"
        },
        "id": "uWSkVuYOW8FL",
        "outputId": "a062f46b-cd10-403f-a9f4-b4d938bad195"
      },
      "outputs": [
        {
          "output_type": "execute_result",
          "data": {
            "text/plain": [
              "249"
            ]
          },
          "metadata": {},
          "execution_count": 3
        }
      ],
      "source": [
        "# Checking the number of mice.\n",
        "df_merged['Mouse ID'].nunique()"
      ]
    },
    {
      "cell_type": "code",
      "execution_count": 4,
      "metadata": {
        "colab": {
          "base_uri": "https://localhost:8080/"
        },
        "id": "wzg5FBkbW8FL",
        "outputId": "76ba25e7-ecab-40de-8337-ed52ef858451"
      },
      "outputs": [
        {
          "output_type": "execute_result",
          "data": {
            "text/plain": [
              "array(['g989'], dtype=object)"
            ]
          },
          "metadata": {},
          "execution_count": 4
        }
      ],
      "source": [
        "# Our data should be uniquely identified by Mouse ID and Timepoint\n",
        "# Get the duplicate mice by ID number that shows up for Mouse ID and Timepoint.\n",
        "duplicates = df_merged[df_merged.duplicated(['Mouse ID', 'Timepoint'])]['Mouse ID'].unique()\n",
        "duplicates"
      ]
    },
    {
      "cell_type": "code",
      "execution_count": 5,
      "metadata": {
        "id": "tAagY-4FW8FM"
      },
      "outputs": [],
      "source": [
        "# Create a clean DataFrame by dropping the duplicate mouse by its ID.\n",
        "df_dupe = df_merged.loc[df_merged['Mouse ID'].isin(duplicates), :]"
      ]
    },
    {
      "cell_type": "code",
      "execution_count": 6,
      "metadata": {
        "colab": {
          "base_uri": "https://localhost:8080/"
        },
        "id": "UPibu3_EW8FM",
        "outputId": "d8a0937c-c200-4b75-88da-c885be876805"
      },
      "outputs": [
        {
          "output_type": "execute_result",
          "data": {
            "text/plain": [
              "248"
            ]
          },
          "metadata": {},
          "execution_count": 6
        }
      ],
      "source": [
        "# Checking the number of mice in the clean DataFrame.\n",
        "df_cleaned = df_merged.drop(df_dupe.index)\n",
        "\n",
        "df_cleaned['Mouse ID'].nunique()"
      ]
    },
    {
      "cell_type": "markdown",
      "metadata": {
        "id": "MUHRo3oIW8FM"
      },
      "source": [
        "## Summary Statistics"
      ]
    },
    {
      "cell_type": "code",
      "execution_count": null,
      "metadata": {
        "colab": {
          "base_uri": "https://localhost:8080/",
          "height": 411
        },
        "id": "5MX3Rz8wW8FM",
        "outputId": "032c41f4-630a-4e33-cc08-38c3b8a35781"
      },
      "outputs": [
        {
          "output_type": "stream",
          "name": "stderr",
          "text": [
            "<ipython-input-44-a6c0d3f54496>:6: FutureWarning: The default value of numeric_only in DataFrameGroupBy.mean is deprecated. In a future version, numeric_only will default to False. Either specify numeric_only or select only columns which should be valid for the function.\n",
            "  mean = drug_reg.mean()[\"Tumor Volume (mm3)\"]\n",
            "<ipython-input-44-a6c0d3f54496>:7: FutureWarning: The default value of numeric_only in DataFrameGroupBy.median is deprecated. In a future version, numeric_only will default to False. Either specify numeric_only or select only columns which should be valid for the function.\n",
            "  med = drug_reg.median()[\"Tumor Volume (mm3)\"]\n",
            "<ipython-input-44-a6c0d3f54496>:8: FutureWarning: The default value of numeric_only in DataFrameGroupBy.var is deprecated. In a future version, numeric_only will default to False. Either specify numeric_only or select only columns which should be valid for the function.\n",
            "  var = drug_reg.var()[\"Tumor Volume (mm3)\"]\n",
            "<ipython-input-44-a6c0d3f54496>:9: FutureWarning: The default value of numeric_only in DataFrameGroupBy.std is deprecated. In a future version, numeric_only will default to False. Either specify numeric_only or select only columns which should be valid for the function.\n",
            "  std = drug_reg.std()[\"Tumor Volume (mm3)\"]\n",
            "<ipython-input-44-a6c0d3f54496>:10: FutureWarning: The default value of numeric_only in DataFrameGroupBy.sem is deprecated. In a future version, numeric_only will default to False. Either specify numeric_only or select only columns which should be valid for the function.\n",
            "  sem = drug_reg.sem()[\"Tumor Volume (mm3)\"]\n"
          ]
        },
        {
          "output_type": "execute_result",
          "data": {
            "text/plain": [
              "              Mean Tumor Volume  Median Tumor Volume  Tumor Volume Variance  \\\n",
              "Drug Regimen                                                                  \n",
              "Capomulin             40.675741            41.557809              24.947764   \n",
              "Ceftamin              52.591172            51.776157              39.290177   \n",
              "Infubinol             52.884795            51.820584              43.128684   \n",
              "Ketapril              55.235638            53.698743              68.553577   \n",
              "Naftisol              54.331565            52.509285              66.173479   \n",
              "\n",
              "              Tumor Volume Std. Dev.  Tumor Volume Std. Err.  \n",
              "Drug Regimen                                                  \n",
              "Capomulin                   4.994774                0.329346  \n",
              "Ceftamin                    6.268188                0.469821  \n",
              "Infubinol                   6.567243                0.492236  \n",
              "Ketapril                    8.279709                0.603860  \n",
              "Naftisol                    8.134708                0.596466  "
            ],
            "text/html": [
              "\n",
              "\n",
              "  <div id=\"df-a5ffff7d-b8c0-40d5-8d7c-771cfaf5a371\">\n",
              "    <div class=\"colab-df-container\">\n",
              "      <div>\n",
              "<style scoped>\n",
              "    .dataframe tbody tr th:only-of-type {\n",
              "        vertical-align: middle;\n",
              "    }\n",
              "\n",
              "    .dataframe tbody tr th {\n",
              "        vertical-align: top;\n",
              "    }\n",
              "\n",
              "    .dataframe thead th {\n",
              "        text-align: right;\n",
              "    }\n",
              "</style>\n",
              "<table border=\"1\" class=\"dataframe\">\n",
              "  <thead>\n",
              "    <tr style=\"text-align: right;\">\n",
              "      <th></th>\n",
              "      <th>Mean Tumor Volume</th>\n",
              "      <th>Median Tumor Volume</th>\n",
              "      <th>Tumor Volume Variance</th>\n",
              "      <th>Tumor Volume Std. Dev.</th>\n",
              "      <th>Tumor Volume Std. Err.</th>\n",
              "    </tr>\n",
              "    <tr>\n",
              "      <th>Drug Regimen</th>\n",
              "      <th></th>\n",
              "      <th></th>\n",
              "      <th></th>\n",
              "      <th></th>\n",
              "      <th></th>\n",
              "    </tr>\n",
              "  </thead>\n",
              "  <tbody>\n",
              "    <tr>\n",
              "      <th>Capomulin</th>\n",
              "      <td>40.675741</td>\n",
              "      <td>41.557809</td>\n",
              "      <td>24.947764</td>\n",
              "      <td>4.994774</td>\n",
              "      <td>0.329346</td>\n",
              "    </tr>\n",
              "    <tr>\n",
              "      <th>Ceftamin</th>\n",
              "      <td>52.591172</td>\n",
              "      <td>51.776157</td>\n",
              "      <td>39.290177</td>\n",
              "      <td>6.268188</td>\n",
              "      <td>0.469821</td>\n",
              "    </tr>\n",
              "    <tr>\n",
              "      <th>Infubinol</th>\n",
              "      <td>52.884795</td>\n",
              "      <td>51.820584</td>\n",
              "      <td>43.128684</td>\n",
              "      <td>6.567243</td>\n",
              "      <td>0.492236</td>\n",
              "    </tr>\n",
              "    <tr>\n",
              "      <th>Ketapril</th>\n",
              "      <td>55.235638</td>\n",
              "      <td>53.698743</td>\n",
              "      <td>68.553577</td>\n",
              "      <td>8.279709</td>\n",
              "      <td>0.603860</td>\n",
              "    </tr>\n",
              "    <tr>\n",
              "      <th>Naftisol</th>\n",
              "      <td>54.331565</td>\n",
              "      <td>52.509285</td>\n",
              "      <td>66.173479</td>\n",
              "      <td>8.134708</td>\n",
              "      <td>0.596466</td>\n",
              "    </tr>\n",
              "  </tbody>\n",
              "</table>\n",
              "</div>\n",
              "      <button class=\"colab-df-convert\" onclick=\"convertToInteractive('df-a5ffff7d-b8c0-40d5-8d7c-771cfaf5a371')\"\n",
              "              title=\"Convert this dataframe to an interactive table.\"\n",
              "              style=\"display:none;\">\n",
              "\n",
              "  <svg xmlns=\"http://www.w3.org/2000/svg\" height=\"24px\"viewBox=\"0 0 24 24\"\n",
              "       width=\"24px\">\n",
              "    <path d=\"M0 0h24v24H0V0z\" fill=\"none\"/>\n",
              "    <path d=\"M18.56 5.44l.94 2.06.94-2.06 2.06-.94-2.06-.94-.94-2.06-.94 2.06-2.06.94zm-11 1L8.5 8.5l.94-2.06 2.06-.94-2.06-.94L8.5 2.5l-.94 2.06-2.06.94zm10 10l.94 2.06.94-2.06 2.06-.94-2.06-.94-.94-2.06-.94 2.06-2.06.94z\"/><path d=\"M17.41 7.96l-1.37-1.37c-.4-.4-.92-.59-1.43-.59-.52 0-1.04.2-1.43.59L10.3 9.45l-7.72 7.72c-.78.78-.78 2.05 0 2.83L4 21.41c.39.39.9.59 1.41.59.51 0 1.02-.2 1.41-.59l7.78-7.78 2.81-2.81c.8-.78.8-2.07 0-2.86zM5.41 20L4 18.59l7.72-7.72 1.47 1.35L5.41 20z\"/>\n",
              "  </svg>\n",
              "      </button>\n",
              "\n",
              "\n",
              "\n",
              "    <div id=\"df-131dc0ad-aee7-435a-93c9-dac9f88d3ee5\">\n",
              "      <button class=\"colab-df-quickchart\" onclick=\"quickchart('df-131dc0ad-aee7-435a-93c9-dac9f88d3ee5')\"\n",
              "              title=\"Suggest charts.\"\n",
              "              style=\"display:none;\">\n",
              "\n",
              "<svg xmlns=\"http://www.w3.org/2000/svg\" height=\"24px\"viewBox=\"0 0 24 24\"\n",
              "     width=\"24px\">\n",
              "    <g>\n",
              "        <path d=\"M19 3H5c-1.1 0-2 .9-2 2v14c0 1.1.9 2 2 2h14c1.1 0 2-.9 2-2V5c0-1.1-.9-2-2-2zM9 17H7v-7h2v7zm4 0h-2V7h2v10zm4 0h-2v-4h2v4z\"/>\n",
              "    </g>\n",
              "</svg>\n",
              "      </button>\n",
              "    </div>\n",
              "\n",
              "<style>\n",
              "  .colab-df-quickchart {\n",
              "    background-color: #E8F0FE;\n",
              "    border: none;\n",
              "    border-radius: 50%;\n",
              "    cursor: pointer;\n",
              "    display: none;\n",
              "    fill: #1967D2;\n",
              "    height: 32px;\n",
              "    padding: 0 0 0 0;\n",
              "    width: 32px;\n",
              "  }\n",
              "\n",
              "  .colab-df-quickchart:hover {\n",
              "    background-color: #E2EBFA;\n",
              "    box-shadow: 0px 1px 2px rgba(60, 64, 67, 0.3), 0px 1px 3px 1px rgba(60, 64, 67, 0.15);\n",
              "    fill: #174EA6;\n",
              "  }\n",
              "\n",
              "  [theme=dark] .colab-df-quickchart {\n",
              "    background-color: #3B4455;\n",
              "    fill: #D2E3FC;\n",
              "  }\n",
              "\n",
              "  [theme=dark] .colab-df-quickchart:hover {\n",
              "    background-color: #434B5C;\n",
              "    box-shadow: 0px 1px 3px 1px rgba(0, 0, 0, 0.15);\n",
              "    filter: drop-shadow(0px 1px 2px rgba(0, 0, 0, 0.3));\n",
              "    fill: #FFFFFF;\n",
              "  }\n",
              "</style>\n",
              "\n",
              "    <script>\n",
              "      async function quickchart(key) {\n",
              "        const containerElement = document.querySelector('#' + key);\n",
              "        const charts = await google.colab.kernel.invokeFunction(\n",
              "            'suggestCharts', [key], {});\n",
              "      }\n",
              "    </script>\n",
              "\n",
              "      <script>\n",
              "\n",
              "function displayQuickchartButton(domScope) {\n",
              "  let quickchartButtonEl =\n",
              "    domScope.querySelector('#df-131dc0ad-aee7-435a-93c9-dac9f88d3ee5 button.colab-df-quickchart');\n",
              "  quickchartButtonEl.style.display =\n",
              "    google.colab.kernel.accessAllowed ? 'block' : 'none';\n",
              "}\n",
              "\n",
              "        displayQuickchartButton(document);\n",
              "      </script>\n",
              "      <style>\n",
              "    .colab-df-container {\n",
              "      display:flex;\n",
              "      flex-wrap:wrap;\n",
              "      gap: 12px;\n",
              "    }\n",
              "\n",
              "    .colab-df-convert {\n",
              "      background-color: #E8F0FE;\n",
              "      border: none;\n",
              "      border-radius: 50%;\n",
              "      cursor: pointer;\n",
              "      display: none;\n",
              "      fill: #1967D2;\n",
              "      height: 32px;\n",
              "      padding: 0 0 0 0;\n",
              "      width: 32px;\n",
              "    }\n",
              "\n",
              "    .colab-df-convert:hover {\n",
              "      background-color: #E2EBFA;\n",
              "      box-shadow: 0px 1px 2px rgba(60, 64, 67, 0.3), 0px 1px 3px 1px rgba(60, 64, 67, 0.15);\n",
              "      fill: #174EA6;\n",
              "    }\n",
              "\n",
              "    [theme=dark] .colab-df-convert {\n",
              "      background-color: #3B4455;\n",
              "      fill: #D2E3FC;\n",
              "    }\n",
              "\n",
              "    [theme=dark] .colab-df-convert:hover {\n",
              "      background-color: #434B5C;\n",
              "      box-shadow: 0px 1px 3px 1px rgba(0, 0, 0, 0.15);\n",
              "      filter: drop-shadow(0px 1px 2px rgba(0, 0, 0, 0.3));\n",
              "      fill: #FFFFFF;\n",
              "    }\n",
              "  </style>\n",
              "\n",
              "      <script>\n",
              "        const buttonEl =\n",
              "          document.querySelector('#df-a5ffff7d-b8c0-40d5-8d7c-771cfaf5a371 button.colab-df-convert');\n",
              "        buttonEl.style.display =\n",
              "          google.colab.kernel.accessAllowed ? 'block' : 'none';\n",
              "\n",
              "        async function convertToInteractive(key) {\n",
              "          const element = document.querySelector('#df-a5ffff7d-b8c0-40d5-8d7c-771cfaf5a371');\n",
              "          const dataTable =\n",
              "            await google.colab.kernel.invokeFunction('convertToInteractive',\n",
              "                                                     [key], {});\n",
              "          if (!dataTable) return;\n",
              "\n",
              "          const docLinkHtml = 'Like what you see? Visit the ' +\n",
              "            '<a target=\"_blank\" href=https://colab.research.google.com/notebooks/data_table.ipynb>data table notebook</a>'\n",
              "            + ' to learn more about interactive tables.';\n",
              "          element.innerHTML = '';\n",
              "          dataTable['output_type'] = 'display_data';\n",
              "          await google.colab.output.renderOutput(dataTable, element);\n",
              "          const docLink = document.createElement('div');\n",
              "          docLink.innerHTML = docLinkHtml;\n",
              "          element.appendChild(docLink);\n",
              "        }\n",
              "      </script>\n",
              "    </div>\n",
              "  </div>\n"
            ]
          },
          "metadata": {},
          "execution_count": 44
        }
      ],
      "source": [
        "# Generate a summary statistics table of mean, median, variance, standard deviation, and SEM of the tumor volume for each regimen\n",
        "\n",
        "# Use groupby and summary statistical methods to calculate the following properties of each drug regimen:\n",
        "drug_reg = df_cleaned.groupby(\"Drug Regimen\")\n",
        "# mean, median, variance, standard deviation, and SEM of the tumor volume.\n",
        "mean = drug_reg.mean()[\"Tumor Volume (mm3)\"]\n",
        "med = drug_reg.median()[\"Tumor Volume (mm3)\"]\n",
        "var = drug_reg.var()[\"Tumor Volume (mm3)\"]\n",
        "std = drug_reg.std()[\"Tumor Volume (mm3)\"]\n",
        "sem = drug_reg.sem()[\"Tumor Volume (mm3)\"]\n",
        "# Assemble the resulting series into a single summary DataFrame.\n",
        "summary = pd.DataFrame({\"Mean Tumor Volume\":mean,\"Median Tumor Volume\":med, \"Tumor Volume Variance\":var,\"Tumor Volume Std. Dev.\":std,\"Tumor Volume Std. Err.\":sem})\n",
        "\n",
        "summary.head()"
      ]
    },
    {
      "cell_type": "code",
      "execution_count": null,
      "metadata": {
        "colab": {
          "base_uri": "https://localhost:8080/",
          "height": 425
        },
        "id": "-vsIUCReW8FN",
        "outputId": "32203b36-d835-462a-e7f8-96f1b08ea8eb"
      },
      "outputs": [
        {
          "output_type": "execute_result",
          "data": {
            "text/plain": [
              "             Tumor Volume (mm3)                                          \n",
              "                           mean     median        var       std       sem\n",
              "Drug Regimen                                                             \n",
              "Capomulin             40.675741  41.557809  24.947764  4.994774  0.329346\n",
              "Ceftamin              52.591172  51.776157  39.290177  6.268188  0.469821\n",
              "Infubinol             52.884795  51.820584  43.128684  6.567243  0.492236\n",
              "Ketapril              55.235638  53.698743  68.553577  8.279709  0.603860\n",
              "Naftisol              54.331565  52.509285  66.173479  8.134708  0.596466\n",
              "Placebo               54.033581  52.288934  61.168083  7.821003  0.581331\n",
              "Propriva              52.320930  50.446266  43.852013  6.622085  0.544332\n",
              "Ramicane              40.216745  40.673236  23.486704  4.846308  0.320955\n",
              "Stelasyn              54.233149  52.431737  59.450562  7.710419  0.573111\n",
              "Zoniferol             53.236507  51.818479  48.533355  6.966589  0.516398"
            ],
            "text/html": [
              "\n",
              "\n",
              "  <div id=\"df-3a785763-3294-4193-b8e3-cc3f9de385da\">\n",
              "    <div class=\"colab-df-container\">\n",
              "      <div>\n",
              "<style scoped>\n",
              "    .dataframe tbody tr th:only-of-type {\n",
              "        vertical-align: middle;\n",
              "    }\n",
              "\n",
              "    .dataframe tbody tr th {\n",
              "        vertical-align: top;\n",
              "    }\n",
              "\n",
              "    .dataframe thead tr th {\n",
              "        text-align: left;\n",
              "    }\n",
              "\n",
              "    .dataframe thead tr:last-of-type th {\n",
              "        text-align: right;\n",
              "    }\n",
              "</style>\n",
              "<table border=\"1\" class=\"dataframe\">\n",
              "  <thead>\n",
              "    <tr>\n",
              "      <th></th>\n",
              "      <th colspan=\"5\" halign=\"left\">Tumor Volume (mm3)</th>\n",
              "    </tr>\n",
              "    <tr>\n",
              "      <th></th>\n",
              "      <th>mean</th>\n",
              "      <th>median</th>\n",
              "      <th>var</th>\n",
              "      <th>std</th>\n",
              "      <th>sem</th>\n",
              "    </tr>\n",
              "    <tr>\n",
              "      <th>Drug Regimen</th>\n",
              "      <th></th>\n",
              "      <th></th>\n",
              "      <th></th>\n",
              "      <th></th>\n",
              "      <th></th>\n",
              "    </tr>\n",
              "  </thead>\n",
              "  <tbody>\n",
              "    <tr>\n",
              "      <th>Capomulin</th>\n",
              "      <td>40.675741</td>\n",
              "      <td>41.557809</td>\n",
              "      <td>24.947764</td>\n",
              "      <td>4.994774</td>\n",
              "      <td>0.329346</td>\n",
              "    </tr>\n",
              "    <tr>\n",
              "      <th>Ceftamin</th>\n",
              "      <td>52.591172</td>\n",
              "      <td>51.776157</td>\n",
              "      <td>39.290177</td>\n",
              "      <td>6.268188</td>\n",
              "      <td>0.469821</td>\n",
              "    </tr>\n",
              "    <tr>\n",
              "      <th>Infubinol</th>\n",
              "      <td>52.884795</td>\n",
              "      <td>51.820584</td>\n",
              "      <td>43.128684</td>\n",
              "      <td>6.567243</td>\n",
              "      <td>0.492236</td>\n",
              "    </tr>\n",
              "    <tr>\n",
              "      <th>Ketapril</th>\n",
              "      <td>55.235638</td>\n",
              "      <td>53.698743</td>\n",
              "      <td>68.553577</td>\n",
              "      <td>8.279709</td>\n",
              "      <td>0.603860</td>\n",
              "    </tr>\n",
              "    <tr>\n",
              "      <th>Naftisol</th>\n",
              "      <td>54.331565</td>\n",
              "      <td>52.509285</td>\n",
              "      <td>66.173479</td>\n",
              "      <td>8.134708</td>\n",
              "      <td>0.596466</td>\n",
              "    </tr>\n",
              "    <tr>\n",
              "      <th>Placebo</th>\n",
              "      <td>54.033581</td>\n",
              "      <td>52.288934</td>\n",
              "      <td>61.168083</td>\n",
              "      <td>7.821003</td>\n",
              "      <td>0.581331</td>\n",
              "    </tr>\n",
              "    <tr>\n",
              "      <th>Propriva</th>\n",
              "      <td>52.320930</td>\n",
              "      <td>50.446266</td>\n",
              "      <td>43.852013</td>\n",
              "      <td>6.622085</td>\n",
              "      <td>0.544332</td>\n",
              "    </tr>\n",
              "    <tr>\n",
              "      <th>Ramicane</th>\n",
              "      <td>40.216745</td>\n",
              "      <td>40.673236</td>\n",
              "      <td>23.486704</td>\n",
              "      <td>4.846308</td>\n",
              "      <td>0.320955</td>\n",
              "    </tr>\n",
              "    <tr>\n",
              "      <th>Stelasyn</th>\n",
              "      <td>54.233149</td>\n",
              "      <td>52.431737</td>\n",
              "      <td>59.450562</td>\n",
              "      <td>7.710419</td>\n",
              "      <td>0.573111</td>\n",
              "    </tr>\n",
              "    <tr>\n",
              "      <th>Zoniferol</th>\n",
              "      <td>53.236507</td>\n",
              "      <td>51.818479</td>\n",
              "      <td>48.533355</td>\n",
              "      <td>6.966589</td>\n",
              "      <td>0.516398</td>\n",
              "    </tr>\n",
              "  </tbody>\n",
              "</table>\n",
              "</div>\n",
              "      <button class=\"colab-df-convert\" onclick=\"convertToInteractive('df-3a785763-3294-4193-b8e3-cc3f9de385da')\"\n",
              "              title=\"Convert this dataframe to an interactive table.\"\n",
              "              style=\"display:none;\">\n",
              "\n",
              "  <svg xmlns=\"http://www.w3.org/2000/svg\" height=\"24px\"viewBox=\"0 0 24 24\"\n",
              "       width=\"24px\">\n",
              "    <path d=\"M0 0h24v24H0V0z\" fill=\"none\"/>\n",
              "    <path d=\"M18.56 5.44l.94 2.06.94-2.06 2.06-.94-2.06-.94-.94-2.06-.94 2.06-2.06.94zm-11 1L8.5 8.5l.94-2.06 2.06-.94-2.06-.94L8.5 2.5l-.94 2.06-2.06.94zm10 10l.94 2.06.94-2.06 2.06-.94-2.06-.94-.94-2.06-.94 2.06-2.06.94z\"/><path d=\"M17.41 7.96l-1.37-1.37c-.4-.4-.92-.59-1.43-.59-.52 0-1.04.2-1.43.59L10.3 9.45l-7.72 7.72c-.78.78-.78 2.05 0 2.83L4 21.41c.39.39.9.59 1.41.59.51 0 1.02-.2 1.41-.59l7.78-7.78 2.81-2.81c.8-.78.8-2.07 0-2.86zM5.41 20L4 18.59l7.72-7.72 1.47 1.35L5.41 20z\"/>\n",
              "  </svg>\n",
              "      </button>\n",
              "\n",
              "\n",
              "\n",
              "    <div id=\"df-e4635aaf-c9cd-4cd3-a435-7bf3691e3b1d\">\n",
              "      <button class=\"colab-df-quickchart\" onclick=\"quickchart('df-e4635aaf-c9cd-4cd3-a435-7bf3691e3b1d')\"\n",
              "              title=\"Suggest charts.\"\n",
              "              style=\"display:none;\">\n",
              "\n",
              "<svg xmlns=\"http://www.w3.org/2000/svg\" height=\"24px\"viewBox=\"0 0 24 24\"\n",
              "     width=\"24px\">\n",
              "    <g>\n",
              "        <path d=\"M19 3H5c-1.1 0-2 .9-2 2v14c0 1.1.9 2 2 2h14c1.1 0 2-.9 2-2V5c0-1.1-.9-2-2-2zM9 17H7v-7h2v7zm4 0h-2V7h2v10zm4 0h-2v-4h2v4z\"/>\n",
              "    </g>\n",
              "</svg>\n",
              "      </button>\n",
              "    </div>\n",
              "\n",
              "<style>\n",
              "  .colab-df-quickchart {\n",
              "    background-color: #E8F0FE;\n",
              "    border: none;\n",
              "    border-radius: 50%;\n",
              "    cursor: pointer;\n",
              "    display: none;\n",
              "    fill: #1967D2;\n",
              "    height: 32px;\n",
              "    padding: 0 0 0 0;\n",
              "    width: 32px;\n",
              "  }\n",
              "\n",
              "  .colab-df-quickchart:hover {\n",
              "    background-color: #E2EBFA;\n",
              "    box-shadow: 0px 1px 2px rgba(60, 64, 67, 0.3), 0px 1px 3px 1px rgba(60, 64, 67, 0.15);\n",
              "    fill: #174EA6;\n",
              "  }\n",
              "\n",
              "  [theme=dark] .colab-df-quickchart {\n",
              "    background-color: #3B4455;\n",
              "    fill: #D2E3FC;\n",
              "  }\n",
              "\n",
              "  [theme=dark] .colab-df-quickchart:hover {\n",
              "    background-color: #434B5C;\n",
              "    box-shadow: 0px 1px 3px 1px rgba(0, 0, 0, 0.15);\n",
              "    filter: drop-shadow(0px 1px 2px rgba(0, 0, 0, 0.3));\n",
              "    fill: #FFFFFF;\n",
              "  }\n",
              "</style>\n",
              "\n",
              "    <script>\n",
              "      async function quickchart(key) {\n",
              "        const containerElement = document.querySelector('#' + key);\n",
              "        const charts = await google.colab.kernel.invokeFunction(\n",
              "            'suggestCharts', [key], {});\n",
              "      }\n",
              "    </script>\n",
              "\n",
              "      <script>\n",
              "\n",
              "function displayQuickchartButton(domScope) {\n",
              "  let quickchartButtonEl =\n",
              "    domScope.querySelector('#df-e4635aaf-c9cd-4cd3-a435-7bf3691e3b1d button.colab-df-quickchart');\n",
              "  quickchartButtonEl.style.display =\n",
              "    google.colab.kernel.accessAllowed ? 'block' : 'none';\n",
              "}\n",
              "\n",
              "        displayQuickchartButton(document);\n",
              "      </script>\n",
              "      <style>\n",
              "    .colab-df-container {\n",
              "      display:flex;\n",
              "      flex-wrap:wrap;\n",
              "      gap: 12px;\n",
              "    }\n",
              "\n",
              "    .colab-df-convert {\n",
              "      background-color: #E8F0FE;\n",
              "      border: none;\n",
              "      border-radius: 50%;\n",
              "      cursor: pointer;\n",
              "      display: none;\n",
              "      fill: #1967D2;\n",
              "      height: 32px;\n",
              "      padding: 0 0 0 0;\n",
              "      width: 32px;\n",
              "    }\n",
              "\n",
              "    .colab-df-convert:hover {\n",
              "      background-color: #E2EBFA;\n",
              "      box-shadow: 0px 1px 2px rgba(60, 64, 67, 0.3), 0px 1px 3px 1px rgba(60, 64, 67, 0.15);\n",
              "      fill: #174EA6;\n",
              "    }\n",
              "\n",
              "    [theme=dark] .colab-df-convert {\n",
              "      background-color: #3B4455;\n",
              "      fill: #D2E3FC;\n",
              "    }\n",
              "\n",
              "    [theme=dark] .colab-df-convert:hover {\n",
              "      background-color: #434B5C;\n",
              "      box-shadow: 0px 1px 3px 1px rgba(0, 0, 0, 0.15);\n",
              "      filter: drop-shadow(0px 1px 2px rgba(0, 0, 0, 0.3));\n",
              "      fill: #FFFFFF;\n",
              "    }\n",
              "  </style>\n",
              "\n",
              "      <script>\n",
              "        const buttonEl =\n",
              "          document.querySelector('#df-3a785763-3294-4193-b8e3-cc3f9de385da button.colab-df-convert');\n",
              "        buttonEl.style.display =\n",
              "          google.colab.kernel.accessAllowed ? 'block' : 'none';\n",
              "\n",
              "        async function convertToInteractive(key) {\n",
              "          const element = document.querySelector('#df-3a785763-3294-4193-b8e3-cc3f9de385da');\n",
              "          const dataTable =\n",
              "            await google.colab.kernel.invokeFunction('convertToInteractive',\n",
              "                                                     [key], {});\n",
              "          if (!dataTable) return;\n",
              "\n",
              "          const docLinkHtml = 'Like what you see? Visit the ' +\n",
              "            '<a target=\"_blank\" href=https://colab.research.google.com/notebooks/data_table.ipynb>data table notebook</a>'\n",
              "            + ' to learn more about interactive tables.';\n",
              "          element.innerHTML = '';\n",
              "          dataTable['output_type'] = 'display_data';\n",
              "          await google.colab.output.renderOutput(dataTable, element);\n",
              "          const docLink = document.createElement('div');\n",
              "          docLink.innerHTML = docLinkHtml;\n",
              "          element.appendChild(docLink);\n",
              "        }\n",
              "      </script>\n",
              "    </div>\n",
              "  </div>\n"
            ]
          },
          "metadata": {},
          "execution_count": 45
        }
      ],
      "source": [
        "# A more advanced method to generate a summary statistics table of mean, median, variance, standard deviation,\n",
        "# and SEM of the tumor volume for each regimen (only one method is required in the solution)\n",
        "\n",
        "# Using the aggregation method, produce the same summary statistics in a single line\n",
        "aggregate_df = drug_reg.agg({\"Tumor Volume (mm3)\":[\"mean\",\"median\",\"var\",\"std\",\"sem\"]})\n",
        "\n",
        "aggregate_df"
      ]
    },
    {
      "cell_type": "markdown",
      "metadata": {
        "id": "43OWy3WPW8FN"
      },
      "source": [
        "## Bar and Pie Charts"
      ]
    },
    {
      "cell_type": "code",
      "execution_count": null,
      "metadata": {
        "colab": {
          "base_uri": "https://localhost:8080/",
          "height": 510
        },
        "id": "K8Q53brpW8FN",
        "outputId": "7c6fd151-4445-45bf-fcc6-5e42654cfe83"
      },
      "outputs": [
        {
          "output_type": "display_data",
          "data": {
            "text/plain": [
              "<Figure size 640x480 with 1 Axes>"
            ],
            "image/png": "[encoded data removed]"
          },
          "metadata": {}
        }
      ],
      "source": [
        "# Generate a bar plot showing the total number of rows (Mouse ID/Timepoints) for each drug regimen using Pandas.\n",
        "bar = pd.DataFrame(drug_reg.count()[\"Timepoint\"]).sort_values(\"Timepoint\",ascending=False)\n",
        "pandas_bar_plot = bar.plot.bar(legend=False).set_ylabel(\"Number of Mice Tested\")"
      ]
    },
    {
      "cell_type": "code",
      "execution_count": null,
      "metadata": {
        "colab": {
          "base_uri": "https://localhost:8080/",
          "height": 701
        },
        "id": "o26jJZhRW8FO",
        "outputId": "cd02f060-4807-415b-f79b-f627db4893e8"
      },
      "outputs": [
        {
          "output_type": "execute_result",
          "data": {
            "text/plain": [
              "([0, 1, 2, 3, 4, 5, 6, 7, 8, 9],\n",
              " [Text(0, 0, 'Capomulin'),\n",
              "  Text(1, 0, 'Ramicane'),\n",
              "  Text(2, 0, 'Ketapril'),\n",
              "  Text(3, 0, 'Naftisol'),\n",
              "  Text(4, 0, 'Zoniferol'),\n",
              "  Text(5, 0, 'Placebo'),\n",
              "  Text(6, 0, 'Stelasyn'),\n",
              "  Text(7, 0, 'Ceftamin'),\n",
              "  Text(8, 0, 'Infubinol'),\n",
              "  Text(9, 0, 'Propriva')])"
            ]
          },
          "metadata": {},
          "execution_count": 49
        },
        {
          "output_type": "display_data",
          "data": {
            "text/plain": [
              "<Figure size 640x480 with 1 Axes>"
            ],
            "image/png": "[encoded data removed]"
          },
          "metadata": {}
        }
      ],
      "source": [
        "# Generate a bar plot showing the total number of rows (Mouse ID/Timepoints) for each drug regimen using pyplot.\n",
        "x = bar.index.values\n",
        "y = bar['Timepoint']\n",
        "plt.bar(x,y)\n",
        "plt.xlabel(\"Drug Regimen\")\n",
        "plt.ylabel(\"# of Observed Mouse Timepoints\")\n",
        "plt.xticks(rotation=90)"
      ]
    },
    {
      "cell_type": "code",
      "execution_count": null,
      "metadata": {
        "colab": {
          "base_uri": "https://localhost:8080/",
          "height": 406
        },
        "id": "sSLFEEskW8FO",
        "outputId": "168a8087-bab8-411e-80bc-f725cb694488"
      },
      "outputs": [
        {
          "output_type": "display_data",
          "data": {
            "text/plain": [
              "<Figure size 640x480 with 1 Axes>"
            ],
            "image/png": "[encoded data removed]"
          },
          "metadata": {}
        }
      ],
      "source": [
        "# Generate a pie plot showing the distribution of female versus male mice using Pandas\n",
        "males = df_cleaned.loc[df_cleaned[\"Sex\"]==\"Male\"].count()[\"Mouse ID\"]\n",
        "females = df_cleaned.loc[df_cleaned[\"Sex\"]==\"Female\"].count()[\"Mouse ID\"]\n",
        "labels = [\"Male\",\"Female\"]\n",
        "form = \"%.2f%%\"\n",
        "sex_counts = pd.DataFrame({\"Sex\":[males,females]},index=labels)\n",
        "sex_pandas = sex_counts.plot.pie(y=\"Sex\",autopct=form,legend=False)"
      ]
    },
    {
      "cell_type": "code",
      "execution_count": null,
      "metadata": {
        "colab": {
          "base_uri": "https://localhost:8080/",
          "height": 406
        },
        "id": "6fdK8eUOW8FO",
        "outputId": "635b81c6-b08a-44e3-bd92-4134f63e4512"
      },
      "outputs": [
        {
          "output_type": "display_data",
          "data": {
            "text/plain": [
              "<Figure size 640x480 with 1 Axes>"
            ],
            "image/png": "[encoded data removed]"
          },
          "metadata": {}
        }
      ],
      "source": [
        "# Generate a pie plot showing the distribution of female versus male mice using pyplot\n",
        "plt.pie([males,females],labels=labels,autopct=\"%.2f%%\")\n",
        "plt.ylabel(\"Sex\")\n",
        "plt.show()"
      ]
    },
    {
      "cell_type": "markdown",
      "metadata": {
        "id": "rce3bcmIW8FO"
      },
      "source": [
        "## Quartiles, Outliers and Boxplots"
      ]
    },
    {
      "cell_type": "code",
      "execution_count": null,
      "metadata": {
        "id": "kvJaXR9eW8FP"
      },
      "outputs": [],
      "source": [
        "# Calculate the final tumor volume of each mouse across four of the treatment regimens:\n",
        "# Capomulin, Ramicane, Infubinol, and Ceftamin\n",
        "# Start by getting the last (greatest) timepoint for each mouse\n",
        "max_timepoint_df = pd.DataFrame(df_cleaned.groupby([\"Drug Regimen\",\"Mouse ID\"]).max()[\"Timepoint\"])\n",
        "\n",
        "# Merge this group df with the original DataFrame to get the tumor volume at the last timepoint\n",
        "reset_df = max_timepoint_df.reset_index()\n",
        "\n",
        "vol_df = pd.merge(reset_df,df_cleaned,on=[\"Drug Regimen\",\"Mouse ID\",\"Timepoint\"],how=\"left\")\n"
      ]
    },
    {
      "cell_type": "code",
      "execution_count": null,
      "metadata": {
        "colab": {
          "base_uri": "https://localhost:8080/"
        },
        "id": "JchM1uoyW8FP",
        "outputId": "30fdcfac-b7ec-4598-b19a-8e0c3bfae311"
      },
      "outputs": [
        {
          "output_type": "stream",
          "name": "stdout",
          "text": [
            "Capomulin's potential outliers: Series([], Name: Tumor Volume (mm3), dtype: float64)\n",
            "Ramicane's potential outliers: Series([], Name: Tumor Volume (mm3), dtype: float64)\n",
            "Infubinol's potential outliers: 55    36.321346\n",
            "Name: Tumor Volume (mm3), dtype: float64\n",
            "Ceftamin's potential outliers: Series([], Name: Tumor Volume (mm3), dtype: float64)\n"
          ]
        }
      ],
      "source": [
        "# Put treatments into a list for for loop (and later for plot labels)\n",
        "four_drugs = [\"Capomulin\", \"Ramicane\", \"Infubinol\",\"Ceftamin\"]\n",
        "\n",
        "\n",
        "# Create empty list to fill with tumor vol data (for plotting)\n",
        "final_tumor_vol = []\n",
        "\n",
        "# Calculate the IQR and quantitatively determine if there are any potential outliers.\n",
        "for drug in four_drugs:\n",
        "\n",
        "    # Locate the rows which contain mice on each drug and get the tumor volumes\n",
        "    temp_df = vol_df.loc[vol_df[\"Drug Regimen\"]==drug, \"Tumor Volume (mm3)\"]\n",
        "\n",
        "    # add subset\n",
        "    final_tumor_vol.append(temp_df)\n",
        "\n",
        "    # Determine outliers using upper and lower bounds\n",
        "    quartiles = temp_df.quantile([.25,.5,.75])\n",
        "    q1 = quartiles[.25]\n",
        "    q3 = quartiles[.75]\n",
        "    iqr = q3 - q1\n",
        "    lower = q1 - (1.5*iqr)\n",
        "    upper = q3 + (1.5*iqr)\n",
        "    outliers = temp_df.loc[(temp_df > upper) | (temp_df < lower)]\n",
        "    print(f\"{drug}'s potential outliers: {outliers}\")"
      ]
    },
    {
      "cell_type": "code",
      "execution_count": null,
      "metadata": {
        "colab": {
          "base_uri": "https://localhost:8080/",
          "height": 430
        },
        "id": "4HfoEvTgW8FP",
        "outputId": "ae3235c9-09ed-437d-f10a-71fa948011a6"
      },
      "outputs": [
        {
          "output_type": "display_data",
          "data": {
            "text/plain": [
              "<Figure size 640x480 with 1 Axes>"
            ],
            "image/png": "[encoded data removed]"
          },
          "metadata": {}
        }
      ],
      "source": [
        "# Generate a box plot that shows the distrubution of the tumor volume for each treatment group.\n",
        "fig, ax = plt.subplots()\n",
        "flierprops = dict(markerfacecolor='b',markersize=12)\n",
        "ax.boxplot(final_tumor_vol, labels=four_drugs, flierprops=flierprops)\n",
        "ax.set_ylabel(\"Final Tumor Volume (mm3)\")\n",
        "plt.show()"
      ]
    },
    {
      "cell_type": "markdown",
      "metadata": {
        "id": "sNUnxfbDW8FP"
      },
      "source": [
        "## Line and Scatter Plots"
      ]
    },
    {
      "cell_type": "code",
      "execution_count": null,
      "metadata": {
        "colab": {
          "base_uri": "https://localhost:8080/",
          "height": 453
        },
        "id": "5FsmNgIBW8FP",
        "outputId": "ab761daa-6321-41b5-fad6-fbaaa835d13b"
      },
      "outputs": [
        {
          "output_type": "display_data",
          "data": {
            "text/plain": [
              "<Figure size 640x480 with 1 Axes>"
            ],
            "image/png": "[encoded data removed]"
          },
          "metadata": {}
        }
      ],
      "source": [
        "# Generate a line plot of tumor volume vs. time point for a single mouse treated with Capomulin\n",
        "line = df_cleaned.loc[(df_cleaned[\"Drug Regimen\"]==\"Capomulin\") & (df_cleaned[\"Mouse ID\"] == \"b128\")]\n",
        "\n",
        "x = line[\"Timepoint\"]\n",
        "y = line[\"Tumor Volume (mm3)\"]\n",
        "plt.plot(x,y)\n",
        "plt.xlabel(\"Timepoint (days)\")\n",
        "plt.ylabel(\"Tumor Volume (mm3)\")\n",
        "plt.show()"
      ]
    },
    {
      "cell_type": "code",
      "execution_count": null,
      "metadata": {
        "colab": {
          "base_uri": "https://localhost:8080/",
          "height": 501
        },
        "id": "Zp0EgDkVW8FQ",
        "outputId": "e98d5f68-6b44-4396-bb75-5551091cf69a"
      },
      "outputs": [
        {
          "output_type": "stream",
          "name": "stderr",
          "text": [
            "<ipython-input-62-9f999a3aeb39>:4: FutureWarning: The default value of numeric_only in DataFrameGroupBy.mean is deprecated. In a future version, numeric_only will default to False. Either specify numeric_only or select only columns which should be valid for the function.\n",
            "  scatter = capomulin_df.groupby(\"Mouse ID\").mean()\n"
          ]
        },
        {
          "output_type": "execute_result",
          "data": {
            "text/plain": [
              "Text(0, 0.5, 'Tumor Volume (mm3)')"
            ]
          },
          "metadata": {},
          "execution_count": 62
        },
        {
          "output_type": "display_data",
          "data": {
            "text/plain": [
              "<Figure size 640x480 with 1 Axes>"
            ],
            "image/png": "[encoded data removed]"
          },
          "metadata": {}
        }
      ],
      "source": [
        "# Generate a scatter plot of mouse weight vs. the average observed tumor volume for the entire Capomulin regimen\n",
        "capomulin_df = df_cleaned.loc[df_cleaned[\"Drug Regimen\"] == \"Capomulin\",:]\n",
        "\n",
        "scatter = capomulin_df.groupby(\"Mouse ID\").mean()\n",
        "\n",
        "x = scatter[\"Weight (g)\"]\n",
        "y = scatter[\"Tumor Volume (mm3)\"]\n",
        "plt.scatter(x,y)\n",
        "plt.xlabel(\"Weight (g)\")\n",
        "plt.ylabel(\"Tumor Volume (mm3)\")"
      ]
    },
    {
      "cell_type": "markdown",
      "metadata": {
        "id": "n0oEjtAkW8FQ"
      },
      "source": [
        "## Correlation and Regression"
      ]
    },
    {
      "cell_type": "code",
      "execution_count": null,
      "metadata": {
        "colab": {
          "base_uri": "https://localhost:8080/",
          "height": 466
        },
        "id": "oPN8ksEdW8FQ",
        "outputId": "d2bd2d88-0779-46c1-b1ea-3f5ae0f9614d"
      },
      "outputs": [
        {
          "output_type": "stream",
          "name": "stdout",
          "text": [
            "The correlation between mouse weight and the average tumor volume is 0.84\n"
          ]
        },
        {
          "output_type": "display_data",
          "data": {
            "text/plain": [
              "<Figure size 640x480 with 1 Axes>"
            ],
            "image/png": "[encoded data removed]"
          },
          "metadata": {}
        }
      ],
      "source": [
        "# Calculate the correlation coefficient and a linear regression model\n",
        "# for mouse weight and average observed tumor volume for the entire Capomulin regimen\n",
        "corr = round(x.corr(y),2)\n",
        "\n",
        "(slope, intercept, rvalue, pvalue, stderr) = st.linregress(x,y)\n",
        "regress_values = x * slope + intercept\n",
        "plt.plot(x,regress_values,\"r-\")\n",
        "\n",
        "plt.scatter(x,y)\n",
        "plt.xlabel(\"Weight (g)\")\n",
        "plt.ylabel(\"Average Tumor Volume (mm3)\")\n",
        "print(f\"The correlation between mouse weight and the average tumor volume is {corr}\")\n",
        "plt.show()"
      ]
    },
    {
      "cell_type": "code",
      "execution_count": null,
      "metadata": {
        "id": "oj8VG8fJW8FQ"
      },
      "outputs": [],
      "source": []
    }
  ],
  "metadata": {
    "anaconda-cloud": {},
    "kernelspec": {
      "display_name": "PythonData",
      "language": "python",
      "name": "python3"
    },
    "language_info": {
      "codemirror_mode": {
        "name": "ipython",
        "version": 3
      },
      "file_extension": ".py",
      "mimetype": "text/x-python",
      "name": "python",
      "nbconvert_exporter": "python",
      "pygments_lexer": "ipython3",
      "version": "3.10.9"
    },
    "colab": {
      "provenance": []
    }
  },
  "nbformat": 4,
  "nbformat_minor": 0
}